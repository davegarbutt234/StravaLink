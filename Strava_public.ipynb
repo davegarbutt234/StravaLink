{
 "cells": [
  {
   "cell_type": "code",
   "execution_count": null,
   "metadata": {},
   "outputs": [],
   "source": [
    "from stravaio import strava_oauth2\n",
    "import os\n",
    "from stravaio import StravaIO\n",
    "import pandas as pd\n",
    "from collections import defaultdict\n",
    "\n",
    "import swagger_client\n",
    "from swagger_client.rest import ApiException\n",
    "\n",
    "\n",
    "#importing strava API client id and secret from local environment\n",
    "\n",
    "strava_client_id = os.environ.get('#replace your client ID from strava.com here as string')\n",
    "strava_client_secret = os.environ.get('#replace your access token here as a string')\n",
    "\n",
    "\n",
    "oauth_res = strava_oauth2(client_id= #replace your client ID from strava.com here as string, client_secret='#replace your access token here as a string')\n"
   ]
  },
  {
   "cell_type": "code",
   "execution_count": null,
   "metadata": {},
   "outputs": [],
   "source": [
    "STRAVA_ACCESS_TOKEN = oauth_res['access_token']\n",
    "client = StravaIO(access_token=STRAVA_ACCESS_TOKEN)\n",
    "\n",
    "athlete = client.get_logged_in_athlete()\n",
    "\n",
    "athlete_dict = athlete.to_dict()\n",
    "athlete\n",
    "athlete_dict\n",
    "\n",
    "timestamp=1577854800\n",
    "\n",
    "\n",
    "access_token = STRAVA_ACCESS_TOKEN\n",
    "\n",
    "configuration = swagger_client.Configuration()\n",
    "configuration.access_token = access_token\n",
    "_api_client = swagger_client.ApiClient(configuration)\n",
    "athletes_api = swagger_client.AthletesApi(_api_client)\n",
    "activities_api = swagger_client.ActivitiesApi(_api_client)"
   ]
  },
  {
   "cell_type": "code",
   "execution_count": null,
   "metadata": {},
   "outputs": [],
   "source": [
    "\n",
    "# get request of activities\n",
    "\n",
    "#import paginated\n",
    "\n",
    "list_activities = []\n",
    "after = timestamp\n",
    "page = 1\n",
    "while page <= 14:\n",
    "    _fetched = activities_api.get_logged_in_athlete_activities(after=after, page=page, per_page=100)\n",
    "    list_activities.extend(_fetched)\n",
    "    print(f\"Fetched {len(_fetched)}, between {_fetched[0].start_date} and {_fetched[-1].start_date}\")\n",
    "    page += 1\n",
    "    if len(_fetched) <100:\n",
    "        break"
   ]
  },
  {
   "cell_type": "code",
   "execution_count": null,
   "metadata": {},
   "outputs": [],
   "source": [
    "print(f'total activities fetched were {len(list_activities)}')\n",
    "nested_dict={}\n",
    "for i,d in enumerate(list_activities):\n",
    "    nested_dict[i]=d.to_dict()\n",
    "    \n",
    "dd = defaultdict(list)\n",
    "\n",
    "for d in nested_dict.values():\n",
    "    for k, v in d.items():\n",
    "        dd[k].append(v)\n",
    "        \n",
    "activities_df = pd.DataFrame(dd)\n",
    "\n",
    "activities_df.shape"
   ]
  },
  {
   "cell_type": "code",
   "execution_count": null,
   "metadata": {},
   "outputs": [],
   "source": [
    "activities_df.to_csv('C:/Users/xxxx/Desktop/strava_data1.csv'.format(os.getcwd()))"
   ]
  },
  {
   "cell_type": "code",
   "execution_count": null,
   "metadata": {},
   "outputs": [],
   "source": []
  }
 ],
 "metadata": {
  "kernelspec": {
   "display_name": "Python 3",
   "language": "python",
   "name": "python3"
  },
  "language_info": {
   "codemirror_mode": {
    "name": "ipython",
    "version": 3
   },
   "file_extension": ".py",
   "mimetype": "text/x-python",
   "name": "python",
   "nbconvert_exporter": "python",
   "pygments_lexer": "ipython3",
   "version": "3.7.4"
  }
 },
 "nbformat": 4,
 "nbformat_minor": 2
}
